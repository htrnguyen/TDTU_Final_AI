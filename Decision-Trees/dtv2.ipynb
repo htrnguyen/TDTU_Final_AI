{
 "cells": [
  {
   "cell_type": "code",
   "execution_count": 6,
   "metadata": {},
   "outputs": [],
   "source": [
    "import numpy as np\n",
    "import math\n",
    "import pandas as pd\n",
    "import matplotlib.pyplot as plt\n",
    "from sklearn.tree import DecisionTreeClassifier"
   ]
  },
  {
   "cell_type": "code",
   "execution_count": 16,
   "metadata": {},
   "outputs": [
    {
     "data": {
      "text/html": [
       "<div>\n",
       "<style scoped>\n",
       "    .dataframe tbody tr th:only-of-type {\n",
       "        vertical-align: middle;\n",
       "    }\n",
       "\n",
       "    .dataframe tbody tr th {\n",
       "        vertical-align: top;\n",
       "    }\n",
       "\n",
       "    .dataframe thead th {\n",
       "        text-align: right;\n",
       "    }\n",
       "</style>\n",
       "<table border=\"1\" class=\"dataframe\">\n",
       "  <thead>\n",
       "    <tr style=\"text-align: right;\">\n",
       "      <th></th>\n",
       "      <th>#</th>\n",
       "      <th>Rank</th>\n",
       "      <th>Q1</th>\n",
       "      <th>Q2</th>\n",
       "      <th>Q3</th>\n",
       "      <th>Q4</th>\n",
       "      <th>Q5</th>\n",
       "      <th>Q6</th>\n",
       "      <th>Q7</th>\n",
       "      <th>Q8</th>\n",
       "      <th>Q9</th>\n",
       "    </tr>\n",
       "  </thead>\n",
       "  <tbody>\n",
       "    <tr>\n",
       "      <th>0</th>\n",
       "      <td>1</td>\n",
       "      <td>F</td>\n",
       "      <td>0</td>\n",
       "      <td>0.0</td>\n",
       "      <td>0</td>\n",
       "      <td>0</td>\n",
       "      <td>2</td>\n",
       "      <td>6</td>\n",
       "      <td>0</td>\n",
       "      <td>6.4</td>\n",
       "      <td>6.4</td>\n",
       "    </tr>\n",
       "    <tr>\n",
       "      <th>1</th>\n",
       "      <td>2</td>\n",
       "      <td>F</td>\n",
       "      <td>0</td>\n",
       "      <td>4.0</td>\n",
       "      <td>0</td>\n",
       "      <td>0</td>\n",
       "      <td>2</td>\n",
       "      <td>5</td>\n",
       "      <td>0</td>\n",
       "      <td>6.4</td>\n",
       "      <td>2.7</td>\n",
       "    </tr>\n",
       "    <tr>\n",
       "      <th>2</th>\n",
       "      <td>3</td>\n",
       "      <td>P</td>\n",
       "      <td>3</td>\n",
       "      <td>8.0</td>\n",
       "      <td>5</td>\n",
       "      <td>4</td>\n",
       "      <td>3</td>\n",
       "      <td>9</td>\n",
       "      <td>4</td>\n",
       "      <td>8.6</td>\n",
       "      <td>6.4</td>\n",
       "    </tr>\n",
       "    <tr>\n",
       "      <th>3</th>\n",
       "      <td>4</td>\n",
       "      <td>P</td>\n",
       "      <td>0</td>\n",
       "      <td>10.0</td>\n",
       "      <td>0</td>\n",
       "      <td>1</td>\n",
       "      <td>0</td>\n",
       "      <td>7</td>\n",
       "      <td>4</td>\n",
       "      <td>7.9</td>\n",
       "      <td>9.1</td>\n",
       "    </tr>\n",
       "    <tr>\n",
       "      <th>4</th>\n",
       "      <td>5</td>\n",
       "      <td>F</td>\n",
       "      <td>0</td>\n",
       "      <td>6.0</td>\n",
       "      <td>7</td>\n",
       "      <td>0</td>\n",
       "      <td>3</td>\n",
       "      <td>0</td>\n",
       "      <td>2</td>\n",
       "      <td>5.7</td>\n",
       "      <td>5.5</td>\n",
       "    </tr>\n",
       "  </tbody>\n",
       "</table>\n",
       "</div>"
      ],
      "text/plain": [
       "   # Rank  Q1    Q2  Q3  Q4  Q5  Q6  Q7   Q8   Q9\n",
       "0  1    F   0   0.0   0   0   2   6   0  6.4  6.4\n",
       "1  2    F   0   4.0   0   0   2   5   0  6.4  2.7\n",
       "2  3    P   3   8.0   5   4   3   9   4  8.6  6.4\n",
       "3  4    P   0  10.0   0   1   0   7   4  7.9  9.1\n",
       "4  5    F   0   6.0   7   0   3   0   2  5.7  5.5"
      ]
     },
     "execution_count": 16,
     "metadata": {},
     "output_type": "execute_result"
    }
   ],
   "source": [
    "path = './dt_data.csv'\n",
    "df = pd.read_csv(path)\n",
    "df = df.drop(columns=[\"Unnamed: 11\"])\n",
    "\n",
    "df.head()\n"
   ]
  },
  {
   "cell_type": "code",
   "execution_count": 18,
   "metadata": {},
   "outputs": [
    {
     "data": {
      "text/plain": [
       "Rank\n",
       "P    50\n",
       "F    46\n",
       "Name: count, dtype: int64"
      ]
     },
     "execution_count": 18,
     "metadata": {},
     "output_type": "execute_result"
    }
   ],
   "source": [
    "attribute = 'Q1'\n",
    "value = 0\n",
    "target = 'Rank'\n",
    "values = df[attribute].unique()\n",
    "counts = df[df[attribute] == value].value_counts()\n",
    "total = sum(counts)\n",
    "\n",
    "# print(values)\n",
    "# print(counts)\n",
    "# print(total)\n",
    "df[df['Q1'] == 0]['Rank'].value_counts()"
   ]
  },
  {
   "cell_type": "code",
   "execution_count": 9,
   "metadata": {},
   "outputs": [
    {
     "name": "stdout",
     "output_type": "stream",
     "text": [
      "{0: 0.9987472979361685, 3: 0.7522121733341474, 7: -0.0, 1: 0.9268190639645772, 4: 0.691289869405789, 5: 0.6193821946787638, 2: 0.9383153522334069, 6: 0.9182958340544896}\n"
     ]
    }
   ],
   "source": [
    "def _entropy(df, target, attribute):\n",
    "    values = df[attribute].unique()\n",
    "    entropy = dict()\n",
    "\n",
    "    for val in values:\n",
    "        counts = dict(df[df[attribute] == val][target].value_counts())\n",
    "        total = sum(counts.values())\n",
    "        H = -sum( (count/total) * math.log2(count/total) for count in counts.values())\n",
    "        entropy[val] = H\n",
    "\n",
    "    print(entropy)\n",
    "\n",
    "_entropy(df, 'Rank', 'Q1')\n",
    "\n",
    "def _average_entropy(df, target, attribute):\n",
    "    \n",
    "        \n",
    "# def calculate_entropy(attribute):\n",
    "#     counts = Counter(attribute)\n",
    "#     print(counts)\n",
    "#     total = len(attribute)\n",
    "#     entropy = -sum(\n",
    "#         (count / total) * math.log2(count / total) for count in counts.values()\n",
    "#     )\n",
    "#     print(entropy)\n",
    "#     return entropy\n"
   ]
  }
 ],
 "metadata": {
  "kernelspec": {
   "display_name": "Python 3",
   "language": "python",
   "name": "python3"
  },
  "language_info": {
   "codemirror_mode": {
    "name": "ipython",
    "version": 3
   },
   "file_extension": ".py",
   "mimetype": "text/x-python",
   "name": "python",
   "nbconvert_exporter": "python",
   "pygments_lexer": "ipython3",
   "version": "3.11.6"
  }
 },
 "nbformat": 4,
 "nbformat_minor": 2
}
