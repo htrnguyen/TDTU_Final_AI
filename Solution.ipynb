{
 "cells": [
  {
   "cell_type": "code",
   "execution_count": 69,
   "metadata": {},
   "outputs": [
    {
     "name": "stdout",
     "output_type": "stream",
     "text": [
      "0.0:\n",
      "3.0:\n",
      "7.0:\n",
      "1.0:\n",
      "4.0:\n",
      "5.0:\n",
      "2.0:\n",
      "6.0:\n"
     ]
    },
    {
     "data": {
      "text/plain": [
       "[96, 51, 5, 38, 27, 13, 31, 6]"
      ]
     },
     "execution_count": 69,
     "metadata": {},
     "output_type": "execute_result"
    }
   ],
   "source": [
    "import csv\n",
    "from collections import defaultdict\n",
    "from collections import Counter\n",
    "import math\n",
    "\n",
    "def load_data(filename):\n",
    "    myList = []\n",
    "    with open(filename) as numbers:\n",
    "        numbers_data = csv.reader(numbers, delimiter=',')\n",
    "        next(numbers_data) # skip the header\n",
    "        for row in numbers_data:\n",
    "            myList.append(row)\n",
    "        return myList\n",
    "    \n",
    "new_list = load_data('dt_data.csv')\n",
    "\n",
    "# Count the occurrences of each unique value in row[2]\n",
    "my_dict = defaultdict(list)\n",
    "\n",
    "# Add values to the dictionary\n",
    "for row in new_list:\n",
    "    my_dict[row[2]].append(row[1])\n",
    "\n",
    "# Print the dictionary\n",
    "sum_values = []\n",
    "for key, value in my_dict.items():\n",
    "    print(f\"{key}:\")\n",
    "    counts = Counter(i for v in value for i in v)\n",
    "    temp = 0\n",
    "    for i in counts.values():\n",
    "        temp += i\n",
    "    entropy = \n",
    "    sum_values.append(temp)\n",
    "sum_values"
   ]
  },
  {
   "cell_type": "code",
   "execution_count": 34,
   "metadata": {},
   "outputs": [
    {
     "name": "stdout",
     "output_type": "stream",
     "text": [
      "defaultdict(<class 'list'>, {0.0: ['E', 'B']})\n"
     ]
    }
   ],
   "source": [
    "from collections import defaultdict\n",
    "\n",
    "# Sử dụng defaultdict để tự động tạo một danh sách rỗng nếu key chưa tồn tại\n",
    "my_dict = defaultdict(list)\n",
    "\n",
    "# Thêm các cặp key-value vào dictionary\n",
    "my_dict[0.0].append('E')\n",
    "my_dict[0.0].append('B')\n",
    "\n",
    "# In ra dictionary\n",
    "print(my_dict)\n"
   ]
  }
 ],
 "metadata": {
  "kernelspec": {
   "display_name": "Python 3",
   "language": "python",
   "name": "python3"
  },
  "language_info": {
   "codemirror_mode": {
    "name": "ipython",
    "version": 3
   },
   "file_extension": ".py",
   "mimetype": "text/x-python",
   "name": "python",
   "nbconvert_exporter": "python",
   "pygments_lexer": "ipython3",
   "version": "3.11.2"
  }
 },
 "nbformat": 4,
 "nbformat_minor": 2
}
