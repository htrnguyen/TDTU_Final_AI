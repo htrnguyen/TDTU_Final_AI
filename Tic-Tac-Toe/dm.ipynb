{
 "cells": [
  {
   "cell_type": "code",
   "execution_count": 9,
   "metadata": {},
   "outputs": [],
   "source": [
    "import search\n",
    "import numpy as np\n",
    "from problem import Problem\n",
    "from search import SearchStrategy"
   ]
  },
  {
   "cell_type": "code",
   "execution_count": 10,
   "metadata": {},
   "outputs": [],
   "source": [
    "size = 5\n",
    "board = np.full((size, size), \"-\")\n",
    "\n",
    "\n",
    "def draw_board():\n",
    "    # for row in board:\n",
    "    #     print(' | '.join(row))\n",
    "    for row in range(len(board)):\n",
    "        if row != 0:\n",
    "            print(\"—\" * (size * 4 - 2))\n",
    "        print(\" | \".join(board[row]))\n",
    "    print()"
   ]
  },
  {
   "cell_type": "code",
   "execution_count": 11,
   "metadata": {},
   "outputs": [],
   "source": [
    "def is_goal(board, size):\n",
    "    directions = [(0, 1), (1, 0), (1, 1), (1, -1)]\n",
    "    for i in range(size):\n",
    "        for j in range(size):\n",
    "            current_player = board[i][j]\n",
    "            if current_player == \"-\":\n",
    "                continue\n",
    "            for dx, dy in directions:\n",
    "                count = 0\n",
    "                for step in range(4):\n",
    "                    x, y = i + dx * step, j + dy * step\n",
    "                    if (\n",
    "                        0 <= x < size\n",
    "                        and 0 <= y < size\n",
    "                        and board[x][y] == current_player\n",
    "                    ):\n",
    "                        count += 1\n",
    "                    else:\n",
    "                        break\n",
    "                if count == 4:\n",
    "                    return True\n",
    "    return False"
   ]
  },
  {
   "cell_type": "code",
   "execution_count": 12,
   "metadata": {},
   "outputs": [],
   "source": [
    "def is_valid_move(board, move):\n",
    "    x, y = move\n",
    "    return 0 <= x < size and 0 <= y < size and board[x][y] == \"-\""
   ]
  },
  {
   "cell_type": "code",
   "execution_count": 37,
   "metadata": {},
   "outputs": [
    {
     "name": "stdout",
     "output_type": "stream",
     "text": [
      "  |   |   |   |   |   |   |  \n",
      "——————————————————————————————\n",
      "  | X |   |   |   |   |   |  \n",
      "——————————————————————————————\n",
      "  |   |   |   |   |   |   |  \n",
      "——————————————————————————————\n",
      "  |   |   |   |   |   |   |  \n",
      "——————————————————————————————\n",
      "  |   |   |   |   |   |   |  \n",
      "——————————————————————————————\n",
      "  |   |   |   |   |   |   |  \n",
      "——————————————————————————————\n",
      "  |   |   |   |   |   |   |  \n",
      "——————————————————————————————\n",
      "  |   |   |   |   |   |   |  \n",
      "Computer's move:\n"
     ]
    },
    {
     "ename": "IndexError",
     "evalue": "too many indices for array: array is 1-dimensional, but 2 were indexed",
     "output_type": "error",
     "traceback": [
      "\u001b[1;31m---------------------------------------------------------------------------\u001b[0m",
      "\u001b[1;31mIndexError\u001b[0m                                Traceback (most recent call last)",
      "Cell \u001b[1;32mIn[37], line 16\u001b[0m\n\u001b[0;32m     14\u001b[0m     \u001b[38;5;28mprint\u001b[39m(\u001b[38;5;124m\"\u001b[39m\u001b[38;5;124mComputer\u001b[39m\u001b[38;5;124m'\u001b[39m\u001b[38;5;124ms move:\u001b[39m\u001b[38;5;124m\"\u001b[39m)\n\u001b[0;32m     15\u001b[0m     (x, y) \u001b[38;5;241m=\u001b[39m strategy\u001b[38;5;241m.\u001b[39malpha_beta_search()\n\u001b[1;32m---> 16\u001b[0m     \u001b[43mproblem\u001b[49m\u001b[38;5;241;43m.\u001b[39;49m\u001b[43mplace_move\u001b[49m\u001b[43m(\u001b[49m\u001b[43mx\u001b[49m\u001b[43m,\u001b[49m\u001b[43m \u001b[49m\u001b[43my\u001b[49m\u001b[43m)\u001b[49m\n\u001b[0;32m     17\u001b[0m problem\u001b[38;5;241m.\u001b[39mdraw_board()\n",
      "File \u001b[1;32mc:\\Users\\ADMIN\\Documents\\TDTU_IT\\HK2-2\\AI\\CK-vni\\Tic-Tac-Toe\\problem.py:19\u001b[0m, in \u001b[0;36mProblem.place_move\u001b[1;34m(self, x, y)\u001b[0m\n\u001b[0;32m     18\u001b[0m \u001b[38;5;28;01mdef\u001b[39;00m \u001b[38;5;21mplace_move\u001b[39m(\u001b[38;5;28mself\u001b[39m, x, y):\n\u001b[1;32m---> 19\u001b[0m     \u001b[38;5;28mself\u001b[39m\u001b[38;5;241m.\u001b[39mboard[x][y] \u001b[38;5;241m=\u001b[39m \u001b[38;5;28mself\u001b[39m\u001b[38;5;241m.\u001b[39mplayer_turn\n\u001b[0;32m     20\u001b[0m     \u001b[38;5;28mself\u001b[39m\u001b[38;5;241m.\u001b[39mplayer_turn \u001b[38;5;241m=\u001b[39m \u001b[38;5;124m\"\u001b[39m\u001b[38;5;124mO\u001b[39m\u001b[38;5;124m\"\u001b[39m \u001b[38;5;28;01mif\u001b[39;00m \u001b[38;5;28mself\u001b[39m\u001b[38;5;241m.\u001b[39mplayer_turn \u001b[38;5;241m==\u001b[39m \u001b[38;5;124m\"\u001b[39m\u001b[38;5;124mX\u001b[39m\u001b[38;5;124m\"\u001b[39m \u001b[38;5;28;01melse\u001b[39;00m \u001b[38;5;124m\"\u001b[39m\u001b[38;5;124mX\u001b[39m\u001b[38;5;124m\"\u001b[39m\n",
      "File \u001b[1;32mc:\\Users\\ADMIN\\Documents\\TDTU_IT\\HK2-2\\AI\\CK-vni\\Tic-Tac-Toe\\problem.py:16\u001b[0m, in \u001b[0;36mProblem.is_valid_move\u001b[1;34m(self, x, y)\u001b[0m\n\u001b[0;32m     15\u001b[0m \u001b[38;5;28;01mdef\u001b[39;00m \u001b[38;5;21mis_valid_move\u001b[39m(\u001b[38;5;28mself\u001b[39m, x, y):\n\u001b[1;32m---> 16\u001b[0m     \u001b[38;5;28;01mreturn\u001b[39;00m \u001b[38;5;28;43mself\u001b[39;49m\u001b[38;5;241;43m.\u001b[39;49m\u001b[43mboard\u001b[49m\u001b[43m[\u001b[49m\u001b[43mx\u001b[49m\u001b[43m]\u001b[49m\u001b[43m[\u001b[49m\u001b[43my\u001b[49m\u001b[43m]\u001b[49m \u001b[38;5;241m==\u001b[39m \u001b[38;5;124m\"\u001b[39m\u001b[38;5;124m \u001b[39m\u001b[38;5;124m\"\u001b[39m\n",
      "\u001b[1;31mIndexError\u001b[0m: too many indices for array: array is 1-dimensional, but 2 were indexed"
     ]
    }
   ],
   "source": [
    "problem = Problem()\n",
    "strategy = SearchStrategy(problem)\n",
    "\n",
    "while not problem.game_over():\n",
    "    if problem.player_turn == \"X\":\n",
    "        x, y = map(int, input(\"Enter your move: \").split())\n",
    "        if problem.is_valid_move(x, y):\n",
    "            problem.place_move(x, y)\n",
    "        else:\n",
    "            while not problem.is_valid_move((x, y)):\n",
    "                x, y = map(int, input(\"Invalid move. Enter your move: \").split())\n",
    "                \n",
    "    else:\n",
    "        print(\"Computer's move:\")\n",
    "        (x, y) = strategy.alpha_beta_search()\n",
    "        problem.place_move(x, y)\n",
    "    problem.draw_board()"
   ]
  }
 ],
 "metadata": {
  "kernelspec": {
   "display_name": "myconda",
   "language": "python",
   "name": "python3"
  },
  "language_info": {
   "codemirror_mode": {
    "name": "ipython",
    "version": 3
   },
   "file_extension": ".py",
   "mimetype": "text/x-python",
   "name": "python",
   "nbconvert_exporter": "python",
   "pygments_lexer": "ipython3",
   "version": "3.9.18"
  }
 },
 "nbformat": 4,
 "nbformat_minor": 2
}
